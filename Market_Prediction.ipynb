{
 "cells": [
  {
   "cell_type": "markdown",
   "id": "d65aac38",
   "metadata": {},
   "source": [
    "# **Stock Market Perdiction**"
   ]
  },
  {
   "cell_type": "markdown",
   "id": "5b77b382",
   "metadata": {},
   "source": [
    "# Import Library"
   ]
  },
  {
   "cell_type": "code",
   "execution_count": 41,
   "id": "f53fcbbf-a62d-4aa2-be7b-9aa4e17a5e48",
   "metadata": {},
   "outputs": [],
   "source": [
    "import yfinance as yf\n",
    "import pandas as pd\n",
    "import os"
   ]
  },
  {
   "cell_type": "markdown",
   "id": "323191ad",
   "metadata": {},
   "source": [
    "## Import Data"
   ]
  },
  {
   "cell_type": "code",
   "execution_count": 42,
   "id": "0c4d2b51-1187-44c7-a281-da84d0381dd5",
   "metadata": {},
   "outputs": [],
   "source": [
    "if os.path.exists(\"stock.csv\"):\n",
    "    stock = pd.read_csv(\"stock.csv\", index_col=0)\n",
    "else:\n",
    "    stock = yf.Ticker(\"^NSEI\")\n",
    "    stock = stock.history(period=\"max\")\n",
    "    stock.to_csv(\"stock.csv\")"
   ]
  },
  {
   "cell_type": "code",
   "execution_count": 43,
   "id": "f605b43c-8db9-43ae-b2d4-29fc6048b8aa",
   "metadata": {},
   "outputs": [],
   "source": [
    "stock.index = pd.to_datetime(stock.index)"
   ]
  },
  {
   "cell_type": "code",
   "execution_count": 44,
   "id": "fbb162ce-7d18-4c14-b349-9014c0d6db42",
   "metadata": {},
   "outputs": [
    {
     "data": {
      "text/html": [
       "<div>\n",
       "<style scoped>\n",
       "    .dataframe tbody tr th:only-of-type {\n",
       "        vertical-align: middle;\n",
       "    }\n",
       "\n",
       "    .dataframe tbody tr th {\n",
       "        vertical-align: top;\n",
       "    }\n",
       "\n",
       "    .dataframe thead th {\n",
       "        text-align: right;\n",
       "    }\n",
       "</style>\n",
       "<table border=\"1\" class=\"dataframe\">\n",
       "  <thead>\n",
       "    <tr style=\"text-align: right;\">\n",
       "      <th></th>\n",
       "      <th>Open</th>\n",
       "      <th>High</th>\n",
       "      <th>Low</th>\n",
       "      <th>Close</th>\n",
       "      <th>Volume</th>\n",
       "      <th>Dividends</th>\n",
       "      <th>Stock Splits</th>\n",
       "    </tr>\n",
       "    <tr>\n",
       "      <th>Date</th>\n",
       "      <th></th>\n",
       "      <th></th>\n",
       "      <th></th>\n",
       "      <th></th>\n",
       "      <th></th>\n",
       "      <th></th>\n",
       "      <th></th>\n",
       "    </tr>\n",
       "  </thead>\n",
       "  <tbody>\n",
       "    <tr>\n",
       "      <th>2007-09-17 00:00:00+05:30</th>\n",
       "      <td>4518.450195</td>\n",
       "      <td>4549.049805</td>\n",
       "      <td>4482.850098</td>\n",
       "      <td>4494.649902</td>\n",
       "      <td>0</td>\n",
       "      <td>0.0</td>\n",
       "      <td>0.0</td>\n",
       "    </tr>\n",
       "    <tr>\n",
       "      <th>2007-09-18 00:00:00+05:30</th>\n",
       "      <td>4494.100098</td>\n",
       "      <td>4551.799805</td>\n",
       "      <td>4481.549805</td>\n",
       "      <td>4546.200195</td>\n",
       "      <td>0</td>\n",
       "      <td>0.0</td>\n",
       "      <td>0.0</td>\n",
       "    </tr>\n",
       "    <tr>\n",
       "      <th>2007-09-19 00:00:00+05:30</th>\n",
       "      <td>4550.250000</td>\n",
       "      <td>4739.000000</td>\n",
       "      <td>4550.250000</td>\n",
       "      <td>4732.350098</td>\n",
       "      <td>0</td>\n",
       "      <td>0.0</td>\n",
       "      <td>0.0</td>\n",
       "    </tr>\n",
       "    <tr>\n",
       "      <th>2007-09-20 00:00:00+05:30</th>\n",
       "      <td>4734.850098</td>\n",
       "      <td>4760.850098</td>\n",
       "      <td>4721.149902</td>\n",
       "      <td>4747.549805</td>\n",
       "      <td>0</td>\n",
       "      <td>0.0</td>\n",
       "      <td>0.0</td>\n",
       "    </tr>\n",
       "    <tr>\n",
       "      <th>2007-09-21 00:00:00+05:30</th>\n",
       "      <td>4752.950195</td>\n",
       "      <td>4855.700195</td>\n",
       "      <td>4733.700195</td>\n",
       "      <td>4837.549805</td>\n",
       "      <td>0</td>\n",
       "      <td>0.0</td>\n",
       "      <td>0.0</td>\n",
       "    </tr>\n",
       "    <tr>\n",
       "      <th>...</th>\n",
       "      <td>...</td>\n",
       "      <td>...</td>\n",
       "      <td>...</td>\n",
       "      <td>...</td>\n",
       "      <td>...</td>\n",
       "      <td>...</td>\n",
       "      <td>...</td>\n",
       "    </tr>\n",
       "    <tr>\n",
       "      <th>2024-07-16 00:00:00+05:30</th>\n",
       "      <td>24615.900391</td>\n",
       "      <td>24661.250000</td>\n",
       "      <td>24587.650391</td>\n",
       "      <td>24613.000000</td>\n",
       "      <td>283200</td>\n",
       "      <td>0.0</td>\n",
       "      <td>0.0</td>\n",
       "    </tr>\n",
       "    <tr>\n",
       "      <th>2024-07-18 00:00:00+05:30</th>\n",
       "      <td>24543.800781</td>\n",
       "      <td>24837.750000</td>\n",
       "      <td>24504.449219</td>\n",
       "      <td>24800.849609</td>\n",
       "      <td>350900</td>\n",
       "      <td>0.0</td>\n",
       "      <td>0.0</td>\n",
       "    </tr>\n",
       "    <tr>\n",
       "      <th>2024-07-19 00:00:00+05:30</th>\n",
       "      <td>24853.800781</td>\n",
       "      <td>24854.800781</td>\n",
       "      <td>24508.150391</td>\n",
       "      <td>24530.900391</td>\n",
       "      <td>343800</td>\n",
       "      <td>0.0</td>\n",
       "      <td>0.0</td>\n",
       "    </tr>\n",
       "    <tr>\n",
       "      <th>2024-07-22 00:00:00+05:30</th>\n",
       "      <td>24445.750000</td>\n",
       "      <td>24595.199219</td>\n",
       "      <td>24362.300781</td>\n",
       "      <td>24509.250000</td>\n",
       "      <td>324200</td>\n",
       "      <td>0.0</td>\n",
       "      <td>0.0</td>\n",
       "    </tr>\n",
       "    <tr>\n",
       "      <th>2024-07-23 00:00:00+05:30</th>\n",
       "      <td>24568.900391</td>\n",
       "      <td>24582.550781</td>\n",
       "      <td>24074.199219</td>\n",
       "      <td>24479.050781</td>\n",
       "      <td>436400</td>\n",
       "      <td>0.0</td>\n",
       "      <td>0.0</td>\n",
       "    </tr>\n",
       "  </tbody>\n",
       "</table>\n",
       "<p>4128 rows × 7 columns</p>\n",
       "</div>"
      ],
      "text/plain": [
       "                                   Open          High           Low  \\\n",
       "Date                                                                  \n",
       "2007-09-17 00:00:00+05:30   4518.450195   4549.049805   4482.850098   \n",
       "2007-09-18 00:00:00+05:30   4494.100098   4551.799805   4481.549805   \n",
       "2007-09-19 00:00:00+05:30   4550.250000   4739.000000   4550.250000   \n",
       "2007-09-20 00:00:00+05:30   4734.850098   4760.850098   4721.149902   \n",
       "2007-09-21 00:00:00+05:30   4752.950195   4855.700195   4733.700195   \n",
       "...                                 ...           ...           ...   \n",
       "2024-07-16 00:00:00+05:30  24615.900391  24661.250000  24587.650391   \n",
       "2024-07-18 00:00:00+05:30  24543.800781  24837.750000  24504.449219   \n",
       "2024-07-19 00:00:00+05:30  24853.800781  24854.800781  24508.150391   \n",
       "2024-07-22 00:00:00+05:30  24445.750000  24595.199219  24362.300781   \n",
       "2024-07-23 00:00:00+05:30  24568.900391  24582.550781  24074.199219   \n",
       "\n",
       "                                  Close  Volume  Dividends  Stock Splits  \n",
       "Date                                                                      \n",
       "2007-09-17 00:00:00+05:30   4494.649902       0        0.0           0.0  \n",
       "2007-09-18 00:00:00+05:30   4546.200195       0        0.0           0.0  \n",
       "2007-09-19 00:00:00+05:30   4732.350098       0        0.0           0.0  \n",
       "2007-09-20 00:00:00+05:30   4747.549805       0        0.0           0.0  \n",
       "2007-09-21 00:00:00+05:30   4837.549805       0        0.0           0.0  \n",
       "...                                 ...     ...        ...           ...  \n",
       "2024-07-16 00:00:00+05:30  24613.000000  283200        0.0           0.0  \n",
       "2024-07-18 00:00:00+05:30  24800.849609  350900        0.0           0.0  \n",
       "2024-07-19 00:00:00+05:30  24530.900391  343800        0.0           0.0  \n",
       "2024-07-22 00:00:00+05:30  24509.250000  324200        0.0           0.0  \n",
       "2024-07-23 00:00:00+05:30  24479.050781  436400        0.0           0.0  \n",
       "\n",
       "[4128 rows x 7 columns]"
      ]
     },
     "execution_count": 44,
     "metadata": {},
     "output_type": "execute_result"
    }
   ],
   "source": [
    "stock"
   ]
  },
  {
   "cell_type": "code",
   "execution_count": 45,
   "id": "3e7ddd5b-9c2d-4c13-8210-72a4adb61159",
   "metadata": {},
   "outputs": [
    {
     "data": {
      "text/plain": [
       "<Axes: xlabel='Date'>"
      ]
     },
     "execution_count": 45,
     "metadata": {},
     "output_type": "execute_result"
    },
    {
     "data": {
      "image/png": "[encoded data removed]",
      "text/plain": [
       "<Figure size 640x480 with 1 Axes>"
      ]
     },
     "metadata": {},
     "output_type": "display_data"
    }
   ],
   "source": [
    "stock.plot.line(y=\"Close\", use_index=True)"
   ]
  },
  {
   "cell_type": "code",
   "execution_count": 46,
   "id": "1b02b64d-9eef-489f-894d-26f9e6792db5",
   "metadata": {},
   "outputs": [],
   "source": [
    "del stock[\"Dividends\"]\n",
    "del stock[\"Stock Splits\"]"
   ]
  },
  {
   "cell_type": "code",
   "execution_count": 47,
   "id": "f25e1594-1cd2-47ae-bb50-a0d17ac35c69",
   "metadata": {},
   "outputs": [],
   "source": [
    "stock[\"Tomorrow\"] = stock[\"Close\"].shift(-1)"
   ]
  },
  {
   "cell_type": "code",
   "execution_count": 48,
   "id": "871b16a1-9d77-40c8-8564-1947b438a113",
   "metadata": {},
   "outputs": [],
   "source": [
    "stock[\"Target\"] = (stock[\"Tomorrow\"] > stock[\"Close\"]).astype(int)"
   ]
  },
  {
   "cell_type": "code",
   "execution_count": 49,
   "id": "79e58626-3be6-45f7-b1aa-1786593e3bd6",
   "metadata": {},
   "outputs": [],
   "source": [
    "stock = stock.loc[\"1990-01-01\":].copy()"
   ]
  },
  {
   "cell_type": "code",
   "execution_count": 50,
   "id": "ad95d689-520a-4141-ab6e-a0fe3f9697a6",
   "metadata": {},
   "outputs": [
    {
     "data": {
      "text/html": [
       "<style>#sk-container-id-3 {color: black;background-color: white;}#sk-container-id-3 pre{padding: 0;}#sk-container-id-3 div.sk-toggleable {background-color: white;}#sk-container-id-3 label.sk-toggleable__label {cursor: pointer;display: block;width: 100%;margin-bottom: 0;padding: 0.3em;box-sizing: border-box;text-align: center;}#sk-container-id-3 label.sk-toggleable__label-arrow:before {content: \"▸\";float: left;margin-right: 0.25em;color: #696969;}#sk-container-id-3 label.sk-toggleable__label-arrow:hover:before {color: black;}#sk-container-id-3 div.sk-estimator:hover label.sk-toggleable__label-arrow:before {color: black;}#sk-container-id-3 div.sk-toggleable__content {max-height: 0;max-width: 0;overflow: hidden;text-align: left;background-color: #f0f8ff;}#sk-container-id-3 div.sk-toggleable__content pre {margin: 0.2em;color: black;border-radius: 0.25em;background-color: #f0f8ff;}#sk-container-id-3 input.sk-toggleable__control:checked~div.sk-toggleable__content {max-height: 200px;max-width: 100%;overflow: auto;}#sk-container-id-3 input.sk-toggleable__control:checked~label.sk-toggleable__label-arrow:before {content: \"▾\";}#sk-container-id-3 div.sk-estimator input.sk-toggleable__control:checked~label.sk-toggleable__label {background-color: #d4ebff;}#sk-container-id-3 div.sk-label input.sk-toggleable__control:checked~label.sk-toggleable__label {background-color: #d4ebff;}#sk-container-id-3 input.sk-hidden--visually {border: 0;clip: rect(1px 1px 1px 1px);clip: rect(1px, 1px, 1px, 1px);height: 1px;margin: -1px;overflow: hidden;padding: 0;position: absolute;width: 1px;}#sk-container-id-3 div.sk-estimator {font-family: monospace;background-color: #f0f8ff;border: 1px dotted black;border-radius: 0.25em;box-sizing: border-box;margin-bottom: 0.5em;}#sk-container-id-3 div.sk-estimator:hover {background-color: #d4ebff;}#sk-container-id-3 div.sk-parallel-item::after {content: \"\";width: 100%;border-bottom: 1px solid gray;flex-grow: 1;}#sk-container-id-3 div.sk-label:hover label.sk-toggleable__label {background-color: #d4ebff;}#sk-container-id-3 div.sk-serial::before {content: \"\";position: absolute;border-left: 1px solid gray;box-sizing: border-box;top: 0;bottom: 0;left: 50%;z-index: 0;}#sk-container-id-3 div.sk-serial {display: flex;flex-direction: column;align-items: center;background-color: white;padding-right: 0.2em;padding-left: 0.2em;position: relative;}#sk-container-id-3 div.sk-item {position: relative;z-index: 1;}#sk-container-id-3 div.sk-parallel {display: flex;align-items: stretch;justify-content: center;background-color: white;position: relative;}#sk-container-id-3 div.sk-item::before, #sk-container-id-3 div.sk-parallel-item::before {content: \"\";position: absolute;border-left: 1px solid gray;box-sizing: border-box;top: 0;bottom: 0;left: 50%;z-index: -1;}#sk-container-id-3 div.sk-parallel-item {display: flex;flex-direction: column;z-index: 1;position: relative;background-color: white;}#sk-container-id-3 div.sk-parallel-item:first-child::after {align-self: flex-end;width: 50%;}#sk-container-id-3 div.sk-parallel-item:last-child::after {align-self: flex-start;width: 50%;}#sk-container-id-3 div.sk-parallel-item:only-child::after {width: 0;}#sk-container-id-3 div.sk-dashed-wrapped {border: 1px dashed gray;margin: 0 0.4em 0.5em 0.4em;box-sizing: border-box;padding-bottom: 0.4em;background-color: white;}#sk-container-id-3 div.sk-label label {font-family: monospace;font-weight: bold;display: inline-block;line-height: 1.2em;}#sk-container-id-3 div.sk-label-container {text-align: center;}#sk-container-id-3 div.sk-container {/* jupyter's `normalize.less` sets `[hidden] { display: none; }` but bootstrap.min.css set `[hidden] { display: none !important; }` so we also need the `!important` here to be able to override the default hidden behavior on the sphinx rendered scikit-learn.org. See: https://github.com/scikit-learn/scikit-learn/issues/21755 */display: inline-block !important;position: relative;}#sk-container-id-3 div.sk-text-repr-fallback {display: none;}</style><div id=\"sk-container-id-3\" class=\"sk-top-container\"><div class=\"sk-text-repr-fallback\"><pre>RandomForestClassifier(min_samples_split=100, random_state=1)</pre><b>In a Jupyter environment, please rerun this cell to show the HTML representation or trust the notebook. <br />On GitHub, the HTML representation is unable to render, please try loading this page with nbviewer.org.</b></div><div class=\"sk-container\" hidden><div class=\"sk-item\"><div class=\"sk-estimator sk-toggleable\"><input class=\"sk-toggleable__control sk-hidden--visually\" id=\"sk-estimator-id-3\" type=\"checkbox\" checked><label for=\"sk-estimator-id-3\" class=\"sk-toggleable__label sk-toggleable__label-arrow\">RandomForestClassifier</label><div class=\"sk-toggleable__content\"><pre>RandomForestClassifier(min_samples_split=100, random_state=1)</pre></div></div></div></div></div>"
      ],
      "text/plain": [
       "RandomForestClassifier(min_samples_split=100, random_state=1)"
      ]
     },
     "execution_count": 50,
     "metadata": {},
     "output_type": "execute_result"
    }
   ],
   "source": [
    "from sklearn.ensemble import RandomForestClassifier\n",
    "\n",
    "model = RandomForestClassifier(n_estimators=100, min_samples_split=100, random_state=1)\n",
    "\n",
    "train = stock.iloc[:-100]\n",
    "test = stock.iloc[-100:]\n",
    "\n",
    "predictors = [\"Close\", \"Volume\", \"Open\", \"High\", \"Low\"]\n",
    "model.fit(train[predictors], train[\"Target\"])"
   ]
  },
  {
   "cell_type": "code",
   "execution_count": 51,
   "id": "c0837787-5d4e-4a20-ad0d-3a546bc23cdb",
   "metadata": {},
   "outputs": [
    {
     "data": {
      "text/plain": [
       "0.5921052631578947"
      ]
     },
     "execution_count": 51,
     "metadata": {},
     "output_type": "execute_result"
    }
   ],
   "source": [
    "from sklearn.metrics import precision_score\n",
    "\n",
    "preds = model.predict(test[predictors])\n",
    "preds = pd.Series(preds, index=test.index)\n",
    "precision_score(test[\"Target\"], preds)"
   ]
  },
  {
   "cell_type": "code",
   "execution_count": 52,
   "id": "e33e349f-8365-4282-91db-3b5824e83262",
   "metadata": {},
   "outputs": [
    {
     "data": {
      "text/plain": [
       "<Axes: xlabel='Date'>"
      ]
     },
     "execution_count": 52,
     "metadata": {},
     "output_type": "execute_result"
    },
    {
     "data": {
      "image/png": "[encoded data removed]",
      "text/plain": [
       "<Figure size 640x480 with 1 Axes>"
      ]
     },
     "metadata": {},
     "output_type": "display_data"
    }
   ],
   "source": [
    "combined = pd.concat([test[\"Target\"], preds], axis=1)\n",
    "combined.plot()"
   ]
  },
  {
   "cell_type": "code",
   "execution_count": 53,
   "id": "d4049497-0ee7-4399-83ab-ef61ccf71133",
   "metadata": {},
   "outputs": [],
   "source": [
    "def predict(train, test, predictors, model):\n",
    "    model.fit(train[predictors], train[\"Target\"])\n",
    "    preds = model.predict(test[predictors])\n",
    "    preds = pd.Series(preds, index=test.index, name=\"Predictions\")\n",
    "    combined = pd.concat([test[\"Target\"], preds], axis=1)\n",
    "    return combined"
   ]
  },
  {
   "cell_type": "code",
   "execution_count": 54,
   "id": "ca97d93a-6841-49ef-8f91-25a713baef16",
   "metadata": {},
   "outputs": [],
   "source": [
    "def backtest(data, model, predictors, start=2500, step=250):\n",
    "    all_predictions = []\n",
    "\n",
    "    for i in range(start, data.shape[0], step):\n",
    "        train = data.iloc[0:i].copy()\n",
    "        test = data.iloc[i:(i+step)].copy()\n",
    "        predictions = predict(train, test, predictors, model)\n",
    "        all_predictions.append(predictions)\n",
    "    \n",
    "    return pd.concat(all_predictions)"
   ]
  },
  {
   "cell_type": "code",
   "execution_count": 55,
   "id": "8a75261f-d2de-4bc6-9364-54d520c63985",
   "metadata": {},
   "outputs": [],
   "source": [
    "predictions = backtest(stock, model, predictors)"
   ]
  },
  {
   "cell_type": "code",
   "execution_count": 56,
   "id": "439d8704-c55d-4d1f-a709-acdc0f485e87",
   "metadata": {},
   "outputs": [
    {
     "data": {
      "text/plain": [
       "Predictions\n",
       "1    872\n",
       "0    756\n",
       "Name: count, dtype: int64"
      ]
     },
     "execution_count": 56,
     "metadata": {},
     "output_type": "execute_result"
    }
   ],
   "source": [
    "predictions[\"Predictions\"].value_counts()"
   ]
  },
  {
   "cell_type": "code",
   "execution_count": 57,
   "id": "bf105e8f-6be5-4494-9658-233761f1c4f4",
   "metadata": {},
   "outputs": [
    {
     "data": {
      "text/plain": [
       "0.5458715596330275"
      ]
     },
     "execution_count": 57,
     "metadata": {},
     "output_type": "execute_result"
    }
   ],
   "source": [
    "precision_score(predictions[\"Target\"], predictions[\"Predictions\"])"
   ]
  },
  {
   "cell_type": "code",
   "execution_count": 58,
   "id": "eff25a20-375e-444a-b5d3-b558753fc817",
   "metadata": {},
   "outputs": [
    {
     "data": {
      "text/plain": [
       "Target\n",
       "1    0.550983\n",
       "0    0.449017\n",
       "Name: count, dtype: float64"
      ]
     },
     "execution_count": 58,
     "metadata": {},
     "output_type": "execute_result"
    }
   ],
   "source": [
    "predictions[\"Target\"].value_counts() / predictions.shape[0]"
   ]
  },
  {
   "cell_type": "code",
   "execution_count": 59,
   "id": "ed05ece5-f1f4-443a-b179-33c7e709ea4d",
   "metadata": {},
   "outputs": [],
   "source": [
    "horizons = [2,5,60,250,1000]\n",
    "new_predictors = []\n",
    "\n",
    "for horizon in horizons:\n",
    "    rolling_averages = stock.rolling(horizon).mean()\n",
    "    \n",
    "    ratio_column = f\"Close_Ratio_{horizon}\"\n",
    "    stock[ratio_column] = stock[\"Close\"] / rolling_averages[\"Close\"]\n",
    "    \n",
    "    trend_column = f\"Trend_{horizon}\"\n",
    "    stock[trend_column] = stock.shift(1).rolling(horizon).sum()[\"Target\"]\n",
    "    \n",
    "    new_predictors+= [ratio_column, trend_column]"
   ]
  },
  {
   "cell_type": "code",
   "execution_count": 60,
   "id": "6c04ab2d-64ff-4f56-a206-605dcce30372",
   "metadata": {},
   "outputs": [],
   "source": [
    "stock = stock.dropna(subset=stock.columns[stock.columns != \"Tomorrow\"])"
   ]
  },
  {
   "cell_type": "code",
   "execution_count": 61,
   "id": "fd7b2523-85a4-477d-975d-9cf64b1ff557",
   "metadata": {},
   "outputs": [
    {
     "data": {
      "text/html": [
       "<div>\n",
       "<style scoped>\n",
       "    .dataframe tbody tr th:only-of-type {\n",
       "        vertical-align: middle;\n",
       "    }\n",
       "\n",
       "    .dataframe tbody tr th {\n",
       "        vertical-align: top;\n",
       "    }\n",
       "\n",
       "    .dataframe thead th {\n",
       "        text-align: right;\n",
       "    }\n",
       "</style>\n",
       "<table border=\"1\" class=\"dataframe\">\n",
       "  <thead>\n",
       "    <tr style=\"text-align: right;\">\n",
       "      <th></th>\n",
       "      <th>Open</th>\n",
       "      <th>High</th>\n",
       "      <th>Low</th>\n",
       "      <th>Close</th>\n",
       "      <th>Volume</th>\n",
       "      <th>Tomorrow</th>\n",
       "      <th>Target</th>\n",
       "      <th>Close_Ratio_2</th>\n",
       "      <th>Trend_2</th>\n",
       "      <th>Close_Ratio_5</th>\n",
       "      <th>Trend_5</th>\n",
       "      <th>Close_Ratio_60</th>\n",
       "      <th>Trend_60</th>\n",
       "      <th>Close_Ratio_250</th>\n",
       "      <th>Trend_250</th>\n",
       "      <th>Close_Ratio_1000</th>\n",
       "      <th>Trend_1000</th>\n",
       "    </tr>\n",
       "    <tr>\n",
       "      <th>Date</th>\n",
       "      <th></th>\n",
       "      <th></th>\n",
       "      <th></th>\n",
       "      <th></th>\n",
       "      <th></th>\n",
       "      <th></th>\n",
       "      <th></th>\n",
       "      <th></th>\n",
       "      <th></th>\n",
       "      <th></th>\n",
       "      <th></th>\n",
       "      <th></th>\n",
       "      <th></th>\n",
       "      <th></th>\n",
       "      <th></th>\n",
       "      <th></th>\n",
       "      <th></th>\n",
       "    </tr>\n",
       "  </thead>\n",
       "  <tbody>\n",
       "    <tr>\n",
       "      <th>2011-10-13 00:00:00+05:30</th>\n",
       "      <td>5130.799805</td>\n",
       "      <td>5136.950195</td>\n",
       "      <td>5067.649902</td>\n",
       "      <td>5077.850098</td>\n",
       "      <td>0</td>\n",
       "      <td>5132.299805</td>\n",
       "      <td>1</td>\n",
       "      <td>0.997883</td>\n",
       "      <td>1.0</td>\n",
       "      <td>1.014789</td>\n",
       "      <td>3.0</td>\n",
       "      <td>0.992330</td>\n",
       "      <td>23.0</td>\n",
       "      <td>0.911365</td>\n",
       "      <td>111.0</td>\n",
       "      <td>1.042939</td>\n",
       "      <td>510.0</td>\n",
       "    </tr>\n",
       "    <tr>\n",
       "      <th>2011-10-14 00:00:00+05:30</th>\n",
       "      <td>5057.350098</td>\n",
       "      <td>5141.399902</td>\n",
       "      <td>5056.600098</td>\n",
       "      <td>5132.299805</td>\n",
       "      <td>0</td>\n",
       "      <td>5118.250000</td>\n",
       "      <td>0</td>\n",
       "      <td>1.005333</td>\n",
       "      <td>1.0</td>\n",
       "      <td>1.015754</td>\n",
       "      <td>3.0</td>\n",
       "      <td>1.004393</td>\n",
       "      <td>24.0</td>\n",
       "      <td>0.921801</td>\n",
       "      <td>111.0</td>\n",
       "      <td>1.053995</td>\n",
       "      <td>510.0</td>\n",
       "    </tr>\n",
       "    <tr>\n",
       "      <th>2011-10-17 00:00:00+05:30</th>\n",
       "      <td>5156.200195</td>\n",
       "      <td>5160.200195</td>\n",
       "      <td>5084.500000</td>\n",
       "      <td>5118.250000</td>\n",
       "      <td>0</td>\n",
       "      <td>5037.500000</td>\n",
       "      <td>0</td>\n",
       "      <td>0.998629</td>\n",
       "      <td>1.0</td>\n",
       "      <td>1.007444</td>\n",
       "      <td>2.0</td>\n",
       "      <td>1.003264</td>\n",
       "      <td>23.0</td>\n",
       "      <td>0.919921</td>\n",
       "      <td>111.0</td>\n",
       "      <td>1.051026</td>\n",
       "      <td>509.0</td>\n",
       "    </tr>\n",
       "    <tr>\n",
       "      <th>2011-10-18 00:00:00+05:30</th>\n",
       "      <td>5049.450195</td>\n",
       "      <td>5057.500000</td>\n",
       "      <td>5011.049805</td>\n",
       "      <td>5037.500000</td>\n",
       "      <td>0</td>\n",
       "      <td>5139.149902</td>\n",
       "      <td>1</td>\n",
       "      <td>0.992049</td>\n",
       "      <td>0.0</td>\n",
       "      <td>0.989091</td>\n",
       "      <td>2.0</td>\n",
       "      <td>0.989147</td>\n",
       "      <td>23.0</td>\n",
       "      <td>0.906187</td>\n",
       "      <td>110.0</td>\n",
       "      <td>1.034383</td>\n",
       "      <td>508.0</td>\n",
       "    </tr>\n",
       "    <tr>\n",
       "      <th>2011-10-19 00:00:00+05:30</th>\n",
       "      <td>5080.450195</td>\n",
       "      <td>5148.049805</td>\n",
       "      <td>5075.299805</td>\n",
       "      <td>5139.149902</td>\n",
       "      <td>0</td>\n",
       "      <td>5091.899902</td>\n",
       "      <td>0</td>\n",
       "      <td>1.009989</td>\n",
       "      <td>1.0</td>\n",
       "      <td>1.007477</td>\n",
       "      <td>2.0</td>\n",
       "      <td>1.010438</td>\n",
       "      <td>24.0</td>\n",
       "      <td>0.925163</td>\n",
       "      <td>111.0</td>\n",
       "      <td>1.055190</td>\n",
       "      <td>508.0</td>\n",
       "    </tr>\n",
       "    <tr>\n",
       "      <th>...</th>\n",
       "      <td>...</td>\n",
       "      <td>...</td>\n",
       "      <td>...</td>\n",
       "      <td>...</td>\n",
       "      <td>...</td>\n",
       "      <td>...</td>\n",
       "      <td>...</td>\n",
       "      <td>...</td>\n",
       "      <td>...</td>\n",
       "      <td>...</td>\n",
       "      <td>...</td>\n",
       "      <td>...</td>\n",
       "      <td>...</td>\n",
       "      <td>...</td>\n",
       "      <td>...</td>\n",
       "      <td>...</td>\n",
       "      <td>...</td>\n",
       "    </tr>\n",
       "    <tr>\n",
       "      <th>2024-07-16 00:00:00+05:30</th>\n",
       "      <td>24615.900391</td>\n",
       "      <td>24661.250000</td>\n",
       "      <td>24587.650391</td>\n",
       "      <td>24613.000000</td>\n",
       "      <td>283200</td>\n",
       "      <td>24800.849609</td>\n",
       "      <td>1</td>\n",
       "      <td>1.000535</td>\n",
       "      <td>2.0</td>\n",
       "      <td>1.005908</td>\n",
       "      <td>3.0</td>\n",
       "      <td>1.064072</td>\n",
       "      <td>38.0</td>\n",
       "      <td>1.157850</td>\n",
       "      <td>149.0</td>\n",
       "      <td>1.417305</td>\n",
       "      <td>569.0</td>\n",
       "    </tr>\n",
       "    <tr>\n",
       "      <th>2024-07-18 00:00:00+05:30</th>\n",
       "      <td>24543.800781</td>\n",
       "      <td>24837.750000</td>\n",
       "      <td>24504.449219</td>\n",
       "      <td>24800.849609</td>\n",
       "      <td>350900</td>\n",
       "      <td>24530.900391</td>\n",
       "      <td>0</td>\n",
       "      <td>1.003802</td>\n",
       "      <td>2.0</td>\n",
       "      <td>1.009653</td>\n",
       "      <td>4.0</td>\n",
       "      <td>1.070147</td>\n",
       "      <td>38.0</td>\n",
       "      <td>1.165493</td>\n",
       "      <td>149.0</td>\n",
       "      <td>1.426951</td>\n",
       "      <td>569.0</td>\n",
       "    </tr>\n",
       "    <tr>\n",
       "      <th>2024-07-19 00:00:00+05:30</th>\n",
       "      <td>24853.800781</td>\n",
       "      <td>24854.800781</td>\n",
       "      <td>24508.150391</td>\n",
       "      <td>24530.900391</td>\n",
       "      <td>343800</td>\n",
       "      <td>24509.250000</td>\n",
       "      <td>0</td>\n",
       "      <td>0.994528</td>\n",
       "      <td>1.0</td>\n",
       "      <td>0.996919</td>\n",
       "      <td>4.0</td>\n",
       "      <td>1.056831</td>\n",
       "      <td>37.0</td>\n",
       "      <td>1.151704</td>\n",
       "      <td>148.0</td>\n",
       "      <td>1.410289</td>\n",
       "      <td>568.0</td>\n",
       "    </tr>\n",
       "    <tr>\n",
       "      <th>2024-07-22 00:00:00+05:30</th>\n",
       "      <td>24445.750000</td>\n",
       "      <td>24595.199219</td>\n",
       "      <td>24362.300781</td>\n",
       "      <td>24509.250000</td>\n",
       "      <td>324200</td>\n",
       "      <td>24479.050781</td>\n",
       "      <td>0</td>\n",
       "      <td>0.999559</td>\n",
       "      <td>0.0</td>\n",
       "      <td>0.995981</td>\n",
       "      <td>3.0</td>\n",
       "      <td>1.054278</td>\n",
       "      <td>36.0</td>\n",
       "      <td>1.149581</td>\n",
       "      <td>148.0</td>\n",
       "      <td>1.407932</td>\n",
       "      <td>567.0</td>\n",
       "    </tr>\n",
       "    <tr>\n",
       "      <th>2024-07-23 00:00:00+05:30</th>\n",
       "      <td>24568.900391</td>\n",
       "      <td>24582.550781</td>\n",
       "      <td>24074.199219</td>\n",
       "      <td>24479.050781</td>\n",
       "      <td>436400</td>\n",
       "      <td>NaN</td>\n",
       "      <td>0</td>\n",
       "      <td>0.999384</td>\n",
       "      <td>0.0</td>\n",
       "      <td>0.995625</td>\n",
       "      <td>2.0</td>\n",
       "      <td>1.051413</td>\n",
       "      <td>35.0</td>\n",
       "      <td>1.147075</td>\n",
       "      <td>147.0</td>\n",
       "      <td>1.405093</td>\n",
       "      <td>566.0</td>\n",
       "    </tr>\n",
       "  </tbody>\n",
       "</table>\n",
       "<p>3128 rows × 17 columns</p>\n",
       "</div>"
      ],
      "text/plain": [
       "                                   Open          High           Low  \\\n",
       "Date                                                                  \n",
       "2011-10-13 00:00:00+05:30   5130.799805   5136.950195   5067.649902   \n",
       "2011-10-14 00:00:00+05:30   5057.350098   5141.399902   5056.600098   \n",
       "2011-10-17 00:00:00+05:30   5156.200195   5160.200195   5084.500000   \n",
       "2011-10-18 00:00:00+05:30   5049.450195   5057.500000   5011.049805   \n",
       "2011-10-19 00:00:00+05:30   5080.450195   5148.049805   5075.299805   \n",
       "...                                 ...           ...           ...   \n",
       "2024-07-16 00:00:00+05:30  24615.900391  24661.250000  24587.650391   \n",
       "2024-07-18 00:00:00+05:30  24543.800781  24837.750000  24504.449219   \n",
       "2024-07-19 00:00:00+05:30  24853.800781  24854.800781  24508.150391   \n",
       "2024-07-22 00:00:00+05:30  24445.750000  24595.199219  24362.300781   \n",
       "2024-07-23 00:00:00+05:30  24568.900391  24582.550781  24074.199219   \n",
       "\n",
       "                                  Close  Volume      Tomorrow  Target  \\\n",
       "Date                                                                    \n",
       "2011-10-13 00:00:00+05:30   5077.850098       0   5132.299805       1   \n",
       "2011-10-14 00:00:00+05:30   5132.299805       0   5118.250000       0   \n",
       "2011-10-17 00:00:00+05:30   5118.250000       0   5037.500000       0   \n",
       "2011-10-18 00:00:00+05:30   5037.500000       0   5139.149902       1   \n",
       "2011-10-19 00:00:00+05:30   5139.149902       0   5091.899902       0   \n",
       "...                                 ...     ...           ...     ...   \n",
       "2024-07-16 00:00:00+05:30  24613.000000  283200  24800.849609       1   \n",
       "2024-07-18 00:00:00+05:30  24800.849609  350900  24530.900391       0   \n",
       "2024-07-19 00:00:00+05:30  24530.900391  343800  24509.250000       0   \n",
       "2024-07-22 00:00:00+05:30  24509.250000  324200  24479.050781       0   \n",
       "2024-07-23 00:00:00+05:30  24479.050781  436400           NaN       0   \n",
       "\n",
       "                           Close_Ratio_2  Trend_2  Close_Ratio_5  Trend_5  \\\n",
       "Date                                                                        \n",
       "2011-10-13 00:00:00+05:30       0.997883      1.0       1.014789      3.0   \n",
       "2011-10-14 00:00:00+05:30       1.005333      1.0       1.015754      3.0   \n",
       "2011-10-17 00:00:00+05:30       0.998629      1.0       1.007444      2.0   \n",
       "2011-10-18 00:00:00+05:30       0.992049      0.0       0.989091      2.0   \n",
       "2011-10-19 00:00:00+05:30       1.009989      1.0       1.007477      2.0   \n",
       "...                                  ...      ...            ...      ...   \n",
       "2024-07-16 00:00:00+05:30       1.000535      2.0       1.005908      3.0   \n",
       "2024-07-18 00:00:00+05:30       1.003802      2.0       1.009653      4.0   \n",
       "2024-07-19 00:00:00+05:30       0.994528      1.0       0.996919      4.0   \n",
       "2024-07-22 00:00:00+05:30       0.999559      0.0       0.995981      3.0   \n",
       "2024-07-23 00:00:00+05:30       0.999384      0.0       0.995625      2.0   \n",
       "\n",
       "                           Close_Ratio_60  Trend_60  Close_Ratio_250  \\\n",
       "Date                                                                   \n",
       "2011-10-13 00:00:00+05:30        0.992330      23.0         0.911365   \n",
       "2011-10-14 00:00:00+05:30        1.004393      24.0         0.921801   \n",
       "2011-10-17 00:00:00+05:30        1.003264      23.0         0.919921   \n",
       "2011-10-18 00:00:00+05:30        0.989147      23.0         0.906187   \n",
       "2011-10-19 00:00:00+05:30        1.010438      24.0         0.925163   \n",
       "...                                   ...       ...              ...   \n",
       "2024-07-16 00:00:00+05:30        1.064072      38.0         1.157850   \n",
       "2024-07-18 00:00:00+05:30        1.070147      38.0         1.165493   \n",
       "2024-07-19 00:00:00+05:30        1.056831      37.0         1.151704   \n",
       "2024-07-22 00:00:00+05:30        1.054278      36.0         1.149581   \n",
       "2024-07-23 00:00:00+05:30        1.051413      35.0         1.147075   \n",
       "\n",
       "                           Trend_250  Close_Ratio_1000  Trend_1000  \n",
       "Date                                                                \n",
       "2011-10-13 00:00:00+05:30      111.0          1.042939       510.0  \n",
       "2011-10-14 00:00:00+05:30      111.0          1.053995       510.0  \n",
       "2011-10-17 00:00:00+05:30      111.0          1.051026       509.0  \n",
       "2011-10-18 00:00:00+05:30      110.0          1.034383       508.0  \n",
       "2011-10-19 00:00:00+05:30      111.0          1.055190       508.0  \n",
       "...                              ...               ...         ...  \n",
       "2024-07-16 00:00:00+05:30      149.0          1.417305       569.0  \n",
       "2024-07-18 00:00:00+05:30      149.0          1.426951       569.0  \n",
       "2024-07-19 00:00:00+05:30      148.0          1.410289       568.0  \n",
       "2024-07-22 00:00:00+05:30      148.0          1.407932       567.0  \n",
       "2024-07-23 00:00:00+05:30      147.0          1.405093       566.0  \n",
       "\n",
       "[3128 rows x 17 columns]"
      ]
     },
     "execution_count": 61,
     "metadata": {},
     "output_type": "execute_result"
    }
   ],
   "source": [
    "stock"
   ]
  },
  {
   "cell_type": "code",
   "execution_count": 62,
   "id": "283be581-dbe1-4f02-8851-ff1a027b4104",
   "metadata": {},
   "outputs": [],
   "source": [
    "model = RandomForestClassifier(n_estimators=200, min_samples_split=50, random_state=1)"
   ]
  },
  {
   "cell_type": "code",
   "execution_count": 63,
   "id": "a843303c-a247-4f6d-9505-cc711ca95afa",
   "metadata": {},
   "outputs": [],
   "source": [
    "def predict(train, test, predictors, model):\n",
    "    model.fit(train[predictors], train[\"Target\"])\n",
    "    preds = model.predict_proba(test[predictors])[:,1]\n",
    "    preds[preds >=.6] = 1\n",
    "    preds[preds <.6] = 0\n",
    "    preds = pd.Series(preds, index=test.index, name=\"Predictions\")\n",
    "    combined = pd.concat([test[\"Target\"], preds], axis=1)\n",
    "    return combined"
   ]
  },
  {
   "cell_type": "code",
   "execution_count": 64,
   "id": "fb820946-1275-4914-b6a8-355e96f315b6",
   "metadata": {},
   "outputs": [],
   "source": [
    "predictions = backtest(stock, model, new_predictors)"
   ]
  },
  {
   "cell_type": "code",
   "execution_count": 65,
   "id": "a73e1816-283a-47ac-af43-4550b80307ef",
   "metadata": {},
   "outputs": [
    {
     "data": {
      "text/plain": [
       "Predictions\n",
       "0.0    567\n",
       "1.0     61\n",
       "Name: count, dtype: int64"
      ]
     },
     "execution_count": 65,
     "metadata": {},
     "output_type": "execute_result"
    }
   ],
   "source": [
    "predictions[\"Predictions\"].value_counts()"
   ]
  },
  {
   "cell_type": "code",
   "execution_count": 66,
   "id": "14acc336-4991-4189-bb16-4a8bf53056e1",
   "metadata": {},
   "outputs": [
    {
     "data": {
      "text/plain": [
       "0.5737704918032787"
      ]
     },
     "execution_count": 66,
     "metadata": {},
     "output_type": "execute_result"
    }
   ],
   "source": [
    "precision_score(predictions[\"Target\"], predictions[\"Predictions\"])"
   ]
  },
  {
   "cell_type": "code",
   "execution_count": 67,
   "id": "21b3d365-2157-4229-a785-ae687da0f21f",
   "metadata": {},
   "outputs": [
    {
     "data": {
      "text/plain": [
       "Target\n",
       "1    0.546178\n",
       "0    0.453822\n",
       "Name: count, dtype: float64"
      ]
     },
     "execution_count": 67,
     "metadata": {},
     "output_type": "execute_result"
    }
   ],
   "source": [
    "predictions[\"Target\"].value_counts() / predictions.shape[0]"
   ]
  },
  {
   "cell_type": "code",
   "execution_count": 68,
   "id": "ef08fff5-0dd5-4d86-9d0d-8ce9f7443865",
   "metadata": {},
   "outputs": [
    {
     "data": {
      "text/html": [
       "<div>\n",
       "<style scoped>\n",
       "    .dataframe tbody tr th:only-of-type {\n",
       "        vertical-align: middle;\n",
       "    }\n",
       "\n",
       "    .dataframe tbody tr th {\n",
       "        vertical-align: top;\n",
       "    }\n",
       "\n",
       "    .dataframe thead th {\n",
       "        text-align: right;\n",
       "    }\n",
       "</style>\n",
       "<table border=\"1\" class=\"dataframe\">\n",
       "  <thead>\n",
       "    <tr style=\"text-align: right;\">\n",
       "      <th></th>\n",
       "      <th>Target</th>\n",
       "      <th>Predictions</th>\n",
       "    </tr>\n",
       "    <tr>\n",
       "      <th>Date</th>\n",
       "      <th></th>\n",
       "      <th></th>\n",
       "    </tr>\n",
       "  </thead>\n",
       "  <tbody>\n",
       "    <tr>\n",
       "      <th>2022-01-04 00:00:00+05:30</th>\n",
       "      <td>1</td>\n",
       "      <td>0.0</td>\n",
       "    </tr>\n",
       "    <tr>\n",
       "      <th>2022-01-05 00:00:00+05:30</th>\n",
       "      <td>0</td>\n",
       "      <td>0.0</td>\n",
       "    </tr>\n",
       "    <tr>\n",
       "      <th>2022-01-06 00:00:00+05:30</th>\n",
       "      <td>1</td>\n",
       "      <td>0.0</td>\n",
       "    </tr>\n",
       "    <tr>\n",
       "      <th>2022-01-07 00:00:00+05:30</th>\n",
       "      <td>1</td>\n",
       "      <td>0.0</td>\n",
       "    </tr>\n",
       "    <tr>\n",
       "      <th>2022-01-10 00:00:00+05:30</th>\n",
       "      <td>1</td>\n",
       "      <td>1.0</td>\n",
       "    </tr>\n",
       "    <tr>\n",
       "      <th>...</th>\n",
       "      <td>...</td>\n",
       "      <td>...</td>\n",
       "    </tr>\n",
       "    <tr>\n",
       "      <th>2024-07-16 00:00:00+05:30</th>\n",
       "      <td>1</td>\n",
       "      <td>0.0</td>\n",
       "    </tr>\n",
       "    <tr>\n",
       "      <th>2024-07-18 00:00:00+05:30</th>\n",
       "      <td>0</td>\n",
       "      <td>0.0</td>\n",
       "    </tr>\n",
       "    <tr>\n",
       "      <th>2024-07-19 00:00:00+05:30</th>\n",
       "      <td>0</td>\n",
       "      <td>0.0</td>\n",
       "    </tr>\n",
       "    <tr>\n",
       "      <th>2024-07-22 00:00:00+05:30</th>\n",
       "      <td>0</td>\n",
       "      <td>0.0</td>\n",
       "    </tr>\n",
       "    <tr>\n",
       "      <th>2024-07-23 00:00:00+05:30</th>\n",
       "      <td>0</td>\n",
       "      <td>0.0</td>\n",
       "    </tr>\n",
       "  </tbody>\n",
       "</table>\n",
       "<p>628 rows × 2 columns</p>\n",
       "</div>"
      ],
      "text/plain": [
       "                           Target  Predictions\n",
       "Date                                          \n",
       "2022-01-04 00:00:00+05:30       1          0.0\n",
       "2022-01-05 00:00:00+05:30       0          0.0\n",
       "2022-01-06 00:00:00+05:30       1          0.0\n",
       "2022-01-07 00:00:00+05:30       1          0.0\n",
       "2022-01-10 00:00:00+05:30       1          1.0\n",
       "...                           ...          ...\n",
       "2024-07-16 00:00:00+05:30       1          0.0\n",
       "2024-07-18 00:00:00+05:30       0          0.0\n",
       "2024-07-19 00:00:00+05:30       0          0.0\n",
       "2024-07-22 00:00:00+05:30       0          0.0\n",
       "2024-07-23 00:00:00+05:30       0          0.0\n",
       "\n",
       "[628 rows x 2 columns]"
      ]
     },
     "execution_count": 68,
     "metadata": {},
     "output_type": "execute_result"
    }
   ],
   "source": [
    "predictions"
   ]
  }
 ],
 "metadata": {
  "kernelspec": {
   "display_name": "Python 3 (ipykernel)",
   "language": "python",
   "name": "python3"
  },
  "language_info": {
   "codemirror_mode": {
    "name": "ipython",
    "version": 3
   },
   "file_extension": ".py",
   "mimetype": "text/x-python",
   "name": "python",
   "nbconvert_exporter": "python",
   "pygments_lexer": "ipython3",
   "version": "3.11.7"
  }
 },
 "nbformat": 4,
 "nbformat_minor": 5
}
